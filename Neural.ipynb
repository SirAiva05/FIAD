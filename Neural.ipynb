{
 "cells": [
  {
   "attachments": {},
   "cell_type": "markdown",
   "metadata": {},
   "source": [
    "## Leitura de dados"
   ]
  },
  {
   "cell_type": "code",
   "execution_count": 42,
   "metadata": {},
   "outputs": [
    {
     "name": "stderr",
     "output_type": "stream",
     "text": [
      "/var/folders/ff/k5l3wypj7s1gqw9qq5mly9w80000gn/T/ipykernel_12184/4035303519.py:9: ParserWarning: Falling back to the 'python' engine because the 'c' engine does not support regex separators (separators > 1 char and different from '\\s+' are interpreted as regex); you can avoid this warning by specifying engine='python'.\n",
      "  df = pd.read_csv('Data/DATA.txt', header=None, delimiter=\"   \", names=['GENDER', 'AGE', 'RF', 'SBP', 'HR1','ST', 'HR2', 'CRT', 'KIL', 'EVENT'])\n"
     ]
    }
   ],
   "source": [
    "import pandas as pd\n",
    "import numpy as np\n",
    "from sklearn.mixture import GaussianMixture\n",
    "import tensorflow as tf\n",
    "from sklearn.model_selection import train_test_split\n",
    "import matplotlib.pyplot as plt\n",
    "  \n",
    "# read text file into pandas DataFrame\n",
    "df = pd.read_csv('Data/DATA.txt', header=None, delimiter=\"   \", names=['GENDER', 'AGE', 'RF', 'SBP', 'HR1','ST', 'HR2', 'CRT', 'KIL', 'EVENT'])"
   ]
  },
  {
   "attachments": {},
   "cell_type": "markdown",
   "metadata": {},
   "source": [
    "## Caracterização dos dados"
   ]
  },
  {
   "cell_type": "code",
   "execution_count": 43,
   "metadata": {},
   "outputs": [
    {
     "data": {
      "text/html": [
       "<div>\n",
       "<style scoped>\n",
       "    .dataframe tbody tr th:only-of-type {\n",
       "        vertical-align: middle;\n",
       "    }\n",
       "\n",
       "    .dataframe tbody tr th {\n",
       "        vertical-align: top;\n",
       "    }\n",
       "\n",
       "    .dataframe thead th {\n",
       "        text-align: right;\n",
       "    }\n",
       "</style>\n",
       "<table border=\"1\" class=\"dataframe\">\n",
       "  <thead>\n",
       "    <tr style=\"text-align: right;\">\n",
       "      <th></th>\n",
       "      <th>GENDER</th>\n",
       "      <th>AGE</th>\n",
       "      <th>RF</th>\n",
       "      <th>SBP</th>\n",
       "      <th>HR1</th>\n",
       "      <th>ST</th>\n",
       "      <th>HR2</th>\n",
       "      <th>CRT</th>\n",
       "      <th>KIL</th>\n",
       "      <th>EVENT</th>\n",
       "    </tr>\n",
       "  </thead>\n",
       "  <tbody>\n",
       "    <tr>\n",
       "      <th>0</th>\n",
       "      <td>1.0</td>\n",
       "      <td>33.0</td>\n",
       "      <td>0.0</td>\n",
       "      <td>132.0</td>\n",
       "      <td>91.579173</td>\n",
       "      <td>1.0</td>\n",
       "      <td>90.0</td>\n",
       "      <td>0.8</td>\n",
       "      <td>1.0</td>\n",
       "      <td>0.0</td>\n",
       "    </tr>\n",
       "    <tr>\n",
       "      <th>1</th>\n",
       "      <td>1.0</td>\n",
       "      <td>69.0</td>\n",
       "      <td>0.0</td>\n",
       "      <td>147.0</td>\n",
       "      <td>52.785861</td>\n",
       "      <td>0.0</td>\n",
       "      <td>52.0</td>\n",
       "      <td>1.4</td>\n",
       "      <td>1.0</td>\n",
       "      <td>0.0</td>\n",
       "    </tr>\n",
       "    <tr>\n",
       "      <th>2</th>\n",
       "      <td>1.0</td>\n",
       "      <td>63.0</td>\n",
       "      <td>0.0</td>\n",
       "      <td>142.0</td>\n",
       "      <td>40.692798</td>\n",
       "      <td>1.0</td>\n",
       "      <td>44.0</td>\n",
       "      <td>1.1</td>\n",
       "      <td>3.0</td>\n",
       "      <td>1.0</td>\n",
       "    </tr>\n",
       "    <tr>\n",
       "      <th>3</th>\n",
       "      <td>0.0</td>\n",
       "      <td>79.0</td>\n",
       "      <td>0.0</td>\n",
       "      <td>147.0</td>\n",
       "      <td>106.420820</td>\n",
       "      <td>1.0</td>\n",
       "      <td>110.0</td>\n",
       "      <td>0.9</td>\n",
       "      <td>1.0</td>\n",
       "      <td>1.0</td>\n",
       "    </tr>\n",
       "    <tr>\n",
       "      <th>4</th>\n",
       "      <td>0.0</td>\n",
       "      <td>61.0</td>\n",
       "      <td>0.0</td>\n",
       "      <td>107.0</td>\n",
       "      <td>82.148302</td>\n",
       "      <td>0.0</td>\n",
       "      <td>80.0</td>\n",
       "      <td>1.1</td>\n",
       "      <td>1.0</td>\n",
       "      <td>0.0</td>\n",
       "    </tr>\n",
       "  </tbody>\n",
       "</table>\n",
       "</div>"
      ],
      "text/plain": [
       "   GENDER   AGE   RF    SBP         HR1   ST    HR2  CRT  KIL  EVENT\n",
       "0     1.0  33.0  0.0  132.0   91.579173  1.0   90.0  0.8  1.0    0.0\n",
       "1     1.0  69.0  0.0  147.0   52.785861  0.0   52.0  1.4  1.0    0.0\n",
       "2     1.0  63.0  0.0  142.0   40.692798  1.0   44.0  1.1  3.0    1.0\n",
       "3     0.0  79.0  0.0  147.0  106.420820  1.0  110.0  0.9  1.0    1.0\n",
       "4     0.0  61.0  0.0  107.0   82.148302  0.0   80.0  1.1  1.0    0.0"
      ]
     },
     "execution_count": 43,
     "metadata": {},
     "output_type": "execute_result"
    }
   ],
   "source": [
    "df.head()"
   ]
  },
  {
   "attachments": {},
   "cell_type": "markdown",
   "metadata": {},
   "source": [
    "# Separação dados"
   ]
  },
  {
   "cell_type": "code",
   "execution_count": 44,
   "metadata": {},
   "outputs": [],
   "source": [
    "X = df.drop('EVENT', axis=1)\n",
    "y = df['EVENT']"
   ]
  },
  {
   "attachments": {},
   "cell_type": "markdown",
   "metadata": {},
   "source": [
    "## Divisão train/test"
   ]
  },
  {
   "cell_type": "code",
   "execution_count": 45,
   "metadata": {},
   "outputs": [],
   "source": [
    "X_train, X_test, y_train, y_test = train_test_split(X, y, test_size=0.2, random_state=42)"
   ]
  },
  {
   "attachments": {},
   "cell_type": "markdown",
   "metadata": {},
   "source": [
    "# Modelo"
   ]
  },
  {
   "cell_type": "code",
   "execution_count": 46,
   "metadata": {},
   "outputs": [],
   "source": [
    "# Definir a arquitetura da rede neural\n",
    "model = tf.keras.models.Sequential([\n",
    "    tf.keras.layers.Dense(64, activation='relu', input_shape=(X_train.shape[1],)),\n",
    "    tf.keras.layers.Dense(64, activation='relu'),\n",
    "    tf.keras.layers.Dense(1, activation='sigmoid')\n",
    "])"
   ]
  },
  {
   "cell_type": "code",
   "execution_count": 47,
   "metadata": {},
   "outputs": [
    {
     "name": "stdout",
     "output_type": "stream",
     "text": [
      "Epoch 1/20\n"
     ]
    },
    {
     "name": "stderr",
     "output_type": "stream",
     "text": [
      "2023-05-25 22:22:51.928837: I tensorflow/core/grappler/optimizers/custom_graph_optimizer_registry.cc:114] Plugin optimizer for device_type GPU is enabled.\n"
     ]
    },
    {
     "name": "stdout",
     "output_type": "stream",
     "text": [
      "12/12 [==============================] - ETA: 0s - loss: 3.7807 - accuracy: 0.5151"
     ]
    },
    {
     "name": "stderr",
     "output_type": "stream",
     "text": [
      "2023-05-25 22:22:53.149832: I tensorflow/core/grappler/optimizers/custom_graph_optimizer_registry.cc:114] Plugin optimizer for device_type GPU is enabled.\n"
     ]
    },
    {
     "name": "stdout",
     "output_type": "stream",
     "text": [
      "12/12 [==============================] - 2s 74ms/step - loss: 3.7807 - accuracy: 0.5151 - val_loss: 0.8548 - val_accuracy: 0.6087\n",
      "Epoch 2/20\n",
      "12/12 [==============================] - 0s 34ms/step - loss: 1.4412 - accuracy: 0.6137 - val_loss: 1.2698 - val_accuracy: 0.5435\n",
      "Epoch 3/20\n",
      "12/12 [==============================] - 0s 31ms/step - loss: 1.1690 - accuracy: 0.5644 - val_loss: 0.7142 - val_accuracy: 0.6630\n",
      "Epoch 4/20\n",
      "12/12 [==============================] - 0s 31ms/step - loss: 0.8290 - accuracy: 0.6055 - val_loss: 0.7707 - val_accuracy: 0.6087\n",
      "Epoch 5/20\n",
      "12/12 [==============================] - 0s 31ms/step - loss: 0.7011 - accuracy: 0.6137 - val_loss: 0.7067 - val_accuracy: 0.5978\n",
      "Epoch 6/20\n",
      "12/12 [==============================] - 0s 30ms/step - loss: 0.6145 - accuracy: 0.6767 - val_loss: 0.6684 - val_accuracy: 0.5761\n",
      "Epoch 7/20\n",
      "12/12 [==============================] - 0s 32ms/step - loss: 0.5729 - accuracy: 0.7233 - val_loss: 0.5496 - val_accuracy: 0.8261\n",
      "Epoch 8/20\n",
      "12/12 [==============================] - 0s 30ms/step - loss: 0.5313 - accuracy: 0.8000 - val_loss: 0.5400 - val_accuracy: 0.8587\n",
      "Epoch 9/20\n",
      "12/12 [==============================] - 0s 30ms/step - loss: 0.4951 - accuracy: 0.8137 - val_loss: 0.5228 - val_accuracy: 0.8804\n",
      "Epoch 10/20\n",
      "12/12 [==============================] - 0s 29ms/step - loss: 0.4861 - accuracy: 0.8438 - val_loss: 0.6070 - val_accuracy: 0.5326\n",
      "Epoch 11/20\n",
      "12/12 [==============================] - 0s 30ms/step - loss: 0.4765 - accuracy: 0.8575 - val_loss: 0.6853 - val_accuracy: 0.5109\n",
      "Epoch 12/20\n",
      "12/12 [==============================] - 0s 30ms/step - loss: 0.5227 - accuracy: 0.7315 - val_loss: 0.4599 - val_accuracy: 0.9348\n",
      "Epoch 13/20\n",
      "12/12 [==============================] - 0s 30ms/step - loss: 0.4343 - accuracy: 0.9151 - val_loss: 0.5314 - val_accuracy: 0.6413\n",
      "Epoch 14/20\n",
      "12/12 [==============================] - 0s 30ms/step - loss: 0.4314 - accuracy: 0.8630 - val_loss: 0.4334 - val_accuracy: 0.9565\n",
      "Epoch 15/20\n",
      "12/12 [==============================] - 0s 30ms/step - loss: 0.4134 - accuracy: 0.8986 - val_loss: 0.4775 - val_accuracy: 0.7717\n",
      "Epoch 16/20\n",
      "12/12 [==============================] - 0s 30ms/step - loss: 0.4164 - accuracy: 0.8658 - val_loss: 0.4045 - val_accuracy: 0.9457\n",
      "Epoch 17/20\n",
      "12/12 [==============================] - 0s 30ms/step - loss: 0.4371 - accuracy: 0.8247 - val_loss: 0.4759 - val_accuracy: 0.7391\n",
      "Epoch 18/20\n",
      "12/12 [==============================] - 0s 30ms/step - loss: 0.4258 - accuracy: 0.8247 - val_loss: 0.3971 - val_accuracy: 0.9130\n",
      "Epoch 19/20\n",
      "12/12 [==============================] - 0s 30ms/step - loss: 0.4236 - accuracy: 0.8247 - val_loss: 0.5551 - val_accuracy: 0.5652\n",
      "Epoch 20/20\n",
      "12/12 [==============================] - 0s 30ms/step - loss: 0.4068 - accuracy: 0.8384 - val_loss: 0.4217 - val_accuracy: 0.7935\n"
     ]
    }
   ],
   "source": [
    "model.compile(optimizer='adam', loss='binary_crossentropy', metrics=['accuracy'])\n",
    "history = model.fit(X_train, y_train, epochs=20, batch_size=32, validation_data=(X_test, y_test))"
   ]
  },
  {
   "cell_type": "code",
   "execution_count": 48,
   "metadata": {},
   "outputs": [
    {
     "name": "stdout",
     "output_type": "stream",
     "text": [
      "3/3 [==============================] - 0s 10ms/step - loss: 0.4217 - accuracy: 0.7935\n",
      "Acurácia nos dados de teste: 0.79347825050354\n"
     ]
    }
   ],
   "source": [
    "# Avaliar o modelo nos dados de teste\n",
    "loss, accuracy = model.evaluate(X_test, y_test)\n",
    "print(f'Acurácia nos dados de teste: {accuracy}')"
   ]
  },
  {
   "attachments": {},
   "cell_type": "markdown",
   "metadata": {},
   "source": [
    "## Predição"
   ]
  },
  {
   "cell_type": "code",
   "execution_count": 49,
   "metadata": {},
   "outputs": [
    {
     "name": "stdout",
     "output_type": "stream",
     "text": [
      "3/3 [==============================] - 0s 14ms/step\n"
     ]
    },
    {
     "name": "stderr",
     "output_type": "stream",
     "text": [
      "2023-05-25 22:23:00.455742: I tensorflow/core/grappler/optimizers/custom_graph_optimizer_registry.cc:114] Plugin optimizer for device_type GPU is enabled.\n"
     ]
    }
   ],
   "source": [
    "# Fazer previsões nos dados de teste\n",
    "# Fazer previsões nos dados de teste\n",
    "y_pred_prob = model.predict(X_test).flatten()\n",
    "y_pred = np.where(y_pred_prob >= 0.5, 1, 0)"
   ]
  },
  {
   "attachments": {},
   "cell_type": "markdown",
   "metadata": {},
   "source": [
    "## Plot"
   ]
  },
  {
   "cell_type": "code",
   "execution_count": 50,
   "metadata": {},
   "outputs": [
    {
     "data": {
      "image/png": "[encoded data removed]",
      "text/plain": [
       "<Figure size 640x480 with 1 Axes>"
      ]
     },
     "metadata": {},
     "output_type": "display_data"
    }
   ],
   "source": [
    "from sklearn.metrics import confusion_matrix\n",
    "\n",
    "# Calcular a matriz de confusão\n",
    "cm = confusion_matrix(y_test, y_pred)\n",
    "\n",
    "# Extrair os valores verdadeiros positivos e verdadeiros negativos\n",
    "tn, fp, fn, tp = cm.ravel()\n",
    "\n",
    "# Calcular o número de predições corretas para cada classe\n",
    "correct_predictions = [tn, tp]\n",
    "\n",
    "# Definir as labels para o plot\n",
    "labels = ['Não Evento', 'Evento']\n",
    "\n",
    "# Plotar o número de predições corretas\n",
    "plt.bar(labels, correct_predictions)\n",
    "plt.xlabel('Classe')\n",
    "plt.ylabel('Número de Predições Corretas')\n",
    "plt.title('Avaliação das Predições')\n",
    "plt.show()"
   ]
  }
 ],
 "metadata": {
  "kernelspec": {
   "display_name": "FIAD",
   "language": "python",
   "name": "python3"
  },
  "language_info": {
   "codemirror_mode": {
    "name": "ipython",
    "version": 3
   },
   "file_extension": ".py",
   "mimetype": "text/x-python",
   "name": "python",
   "nbconvert_exporter": "python",
   "pygments_lexer": "ipython3",
   "version": "3.10.4"
  },
  "orig_nbformat": 4
 },
 "nbformat": 4,
 "nbformat_minor": 2
}
